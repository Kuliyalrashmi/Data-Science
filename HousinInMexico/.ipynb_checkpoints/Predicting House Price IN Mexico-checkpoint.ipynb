{
 "cells": [
  {
   "cell_type": "code",
   "execution_count": null,
   "id": "4ed3c984",
   "metadata": {},
   "outputs": [],
   "source": [
    "import plotly.express as px\n",
    "import plotly.graph_objects as go\n",
    "import matplotlib.pyplot as plt\n",
    "import seaborn as sns\n",
    "import pandas as pd\n",
    "import numpy as np\n",
    "from category_encoders import OneHotEncoder\n",
    "from ipywidgets import Dropdown, FloatSlider, IntSlider, interact\n",
    "from sklearn.impute import SimpleImputer \n",
    "from sklearn.linear_model import LinearRegression, Ridge\n",
    "from sklearn.metrics import mean_absolute_error\n",
    "from sklearn.pipeline import make_pipeline \n",
    "from sklearn.model_selection import train_test_split\n",
    "from glob import glob"
   ]
  },
  {
   "cell_type": "code",
   "execution_count": null,
   "id": "f1eac2ce",
   "metadata": {},
   "outputs": [],
   "source": [
    "def wrangle(file_path):\n",
    "    df = pd.read_csv(file_path, index_col = 0)\n",
    "    mask_apt = df[\"place_with_parent_names\"].str.contains(\"Distrito Federal\")\n",
    "    mask_price = df[\"price_aprox_usd\"] < 100000\n",
    "    mask_prt = df[\"property_type\"] == \"apartment\"\n",
    "    df = df[mask_apt & mask_price & mask_prt]\n",
    "    low, high = df[\"surface_covered_in_m2\"].quantile([0.1, 0.9])\n",
    "    mask_area = df[\"surface_covered_in_m2\"].between(low, high)\n",
    "    df = df[mask_area]\n",
    "    df[[\"lat\", \"lon\"]] = df[\"lat-lon\"].str.split(\",\", expand = True).astype(float)\n",
    "    df[\"borough\"] = df[\"place_with_parent_names\"].str.split(\"|\", expand = True)[1]\n",
    "    df.drop(columns = [\"lat-lon\", \"place_with_parent_names\"], inplace = True)\n",
    "    df.drop(columns = [\"price_usd_per_m2\", \"expenses\", \"floor\", \"rooms\", \n",
    "                       \"surface_total_in_m2\"], inplace =True)\n",
    "    df.drop(columns = [\"operation\", \"property_type\",\"properati_url\", \"currency\"],\n",
    "            inplace = True)\n",
    "    df.drop(columns = [\"price_aprox_local_currency\", \"price\", \"price_per_m2\"],\n",
    "            inplace =True)\n",
    "    return df"
   ]
  },
  {
   "cell_type": "code",
   "execution_count": null,
   "id": "32ad963e",
   "metadata": {},
   "outputs": [],
   "source": [
    "file = glob(\"C:/Users/Manoj Kuliyal/OneDrive\\Projects/DataScience(WorldQuantUniversity)/HousinInMexico/mexico-city-real-estate-*\")\n",
    "files = [wrangle(i) for i in file]"
   ]
  },
  {
   "cell_type": "code",
   "execution_count": null,
   "id": "77f6ebec",
   "metadata": {},
   "outputs": [],
   "source": [
    "file"
   ]
  },
  {
   "cell_type": "code",
   "execution_count": null,
   "id": "35659cc0",
   "metadata": {},
   "outputs": [],
   "source": [
    "data"
   ]
  },
  {
   "cell_type": "markdown",
   "id": "f5c4d625",
   "metadata": {},
   "source": [
    "### Feature Engineering"
   ]
  },
  {
   "cell_type": "markdown",
   "id": "f117c9fa",
   "metadata": {},
   "source": [
    "(1) Focussing on the Apartments in \"Distrito Federal which cost less than $100000"
   ]
  },
  {
   "cell_type": "code",
   "execution_count": null,
   "id": "2becbaa5",
   "metadata": {},
   "outputs": [],
   "source": [
    "mask_apt = data[\"place_with_parent_names\"].str.contains(\"Distrito Federal\")\n",
    "mask_price = data['price_aprox_usd'] < 100000\n",
    "mask_prt = data['property_type'] == \"apartment\" \n",
    "data = data[mask_apt & mask_price & mask_prt]\n",
    "data.head()"
   ]
  },
  {
   "cell_type": "code",
   "execution_count": null,
   "id": "eea091a7",
   "metadata": {},
   "outputs": [],
   "source": [
    "# Assuming 'data' is your DataFrame\n",
    "data.loc[:, 'Unnamed: 0'] = None\n",
    "data = data.drop(columns=\"Unnamed: 0\")"
   ]
  },
  {
   "cell_type": "code",
   "execution_count": null,
   "id": "720930dc",
   "metadata": {},
   "outputs": [],
   "source": [
    "data"
   ]
  },
  {
   "cell_type": "markdown",
   "id": "5beff678",
   "metadata": {},
   "source": [
    "(2) Separate the \"lat-lon\" feature into two separate features \"lat\" and \"lon\""
   ]
  },
  {
   "cell_type": "code",
   "execution_count": null,
   "id": "6b3b26c7",
   "metadata": {},
   "outputs": [],
   "source": [
    "data[[\"lat\",\"lon\"]]=data[\"lat-lon\"].str.split(\",\",expand=True).astype(float)\n",
    "data.drop(columns=[\"lat-lon\"],inplace=True)\n",
    "data.head()"
   ]
  },
  {
   "cell_type": "code",
   "execution_count": null,
   "id": "8f7df796",
   "metadata": {},
   "outputs": [],
   "source": []
  }
 ],
 "metadata": {
  "kernelspec": {
   "display_name": "Python 3 (ipykernel)",
   "language": "python",
   "name": "python3"
  },
  "language_info": {
   "codemirror_mode": {
    "name": "ipython",
    "version": 3
   },
   "file_extension": ".py",
   "mimetype": "text/x-python",
   "name": "python",
   "nbconvert_exporter": "python",
   "pygments_lexer": "ipython3",
   "version": "3.11.3"
  }
 },
 "nbformat": 4,
 "nbformat_minor": 5
}
